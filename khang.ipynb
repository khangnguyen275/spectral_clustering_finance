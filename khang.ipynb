{
 "cells": [
  {
   "cell_type": "code",
   "execution_count": 2,
   "id": "d7b78480",
   "metadata": {},
   "outputs": [
    {
     "name": "stdout",
     "output_type": "stream",
     "text": [
      "Using data path: /Users/khang/Desktop/math285j_project/data/drive-download-20250531T145738Z-1-001/CRSP Data Set\n"
     ]
    }
   ],
   "source": [
    "import sys\n",
    "import os\n",
    "possible_paths = [\n",
    "        '/Users/khang/Desktop/math285j_project/data/drive-download-20250531T145738Z-1-001/CRSP Data Set',\n",
    "        '/Users/lunjizhu/Desktop/MATH 285J Project Workspace/spectral_clustering_finance/data',\n",
    "        'F:/spectral_clustering_finance/data/drive-download-20250531T145738Z-1-001/CRSP Data Set',\n",
    "        '/Users/yifangu/Desktop/MATH 285J/285J Project/spectral_clustering_finance/data'\n",
    "    ]\n",
    "\n",
    "path = None\n",
    "for p in possible_paths:\n",
    "    if os.path.isdir(p):\n",
    "        path = p\n",
    "        print(f\"Using data path: {path}\")\n",
    "        break\n",
    "\n",
    "if path is None:\n",
    "    print(\"Error: No valid data path found.\")\n",
    "    sys.exit(1)"
   ]
  },
  {
   "cell_type": "code",
   "execution_count": 5,
   "id": "c53bb820",
   "metadata": {},
   "outputs": [],
   "source": [
    "from utils.returns import *\n",
    "\n"
   ]
  }
 ],
 "metadata": {
  "kernelspec": {
   "display_name": "math285j_project",
   "language": "python",
   "name": "python3"
  },
  "language_info": {
   "codemirror_mode": {
    "name": "ipython",
    "version": 3
   },
   "file_extension": ".py",
   "mimetype": "text/x-python",
   "name": "python",
   "nbconvert_exporter": "python",
   "pygments_lexer": "ipython3",
   "version": "3.13.3"
  }
 },
 "nbformat": 4,
 "nbformat_minor": 5
}
